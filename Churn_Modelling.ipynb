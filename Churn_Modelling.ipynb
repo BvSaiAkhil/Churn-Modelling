{
  "nbformat": 4,
  "nbformat_minor": 0,
  "metadata": {
    "colab": {
      "name": "Churn Modelling.ipynb",
      "version": "0.3.2",
      "provenance": [],
      "collapsed_sections": []
    },
    "kernelspec": {
      "name": "python3",
      "display_name": "Python 3"
    }
  },
  "cells": [
    {
      "cell_type": "code",
      "metadata": {
        "id": "x92BtyuMbgKo",
        "colab_type": "code",
        "outputId": "37568450-15f4-46e4-c7df-4ce95f6570d6",
        "colab": {
          "base_uri": "https://localhost:8080/",
          "height": 34
        }
      },
      "source": [
        "import keras"
      ],
      "execution_count": 1,
      "outputs": [
        {
          "output_type": "stream",
          "text": [
            "Using TensorFlow backend.\n"
          ],
          "name": "stderr"
        }
      ]
    },
    {
      "cell_type": "code",
      "metadata": {
        "id": "pxO0s8Mibi92",
        "colab_type": "code",
        "colab": {}
      },
      "source": [
        "import os\n",
        "import numpy as np \n",
        "import pandas as pd\n",
        "import tensorflow as tf\n",
        "import matplotlib.pyplot as plt\n",
        "import seaborn as sns"
      ],
      "execution_count": 0,
      "outputs": []
    },
    {
      "cell_type": "code",
      "metadata": {
        "id": "BC-aEwEQb2mr",
        "colab_type": "code",
        "colab": {}
      },
      "source": [
        "from google.colab import files"
      ],
      "execution_count": 0,
      "outputs": []
    },
    {
      "cell_type": "code",
      "metadata": {
        "id": "hX2jMiauezYV",
        "colab_type": "code",
        "outputId": "172d2fee-d3a2-4dca-de76-40dee440f46b",
        "colab": {
          "resources": {
            "http://localhost:8080/nbextensions/google.colab/files.js": {
              "data": "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",
              "ok": true,
              "headers": [
                [
                  "content-type",
                  "application/javascript"
                ]
              ],
              "status": 200,
              "status_text": ""
            }
          },
          "base_uri": "https://localhost:8080/",
          "height": 74
        }
      },
      "source": [
        "file=files.upload()"
      ],
      "execution_count": 5,
      "outputs": [
        {
          "output_type": "display_data",
          "data": {
            "text/html": [
              "\n",
              "     <input type=\"file\" id=\"files-ccf9c9a7-975f-4eb0-8b50-728f4aa87a3a\" name=\"files[]\" multiple disabled />\n",
              "     <output id=\"result-ccf9c9a7-975f-4eb0-8b50-728f4aa87a3a\">\n",
              "      Upload widget is only available when the cell has been executed in the\n",
              "      current browser session. Please rerun this cell to enable.\n",
              "      </output>\n",
              "      <script src=\"/nbextensions/google.colab/files.js\"></script> "
            ],
            "text/plain": [
              "<IPython.core.display.HTML object>"
            ]
          },
          "metadata": {
            "tags": []
          }
        },
        {
          "output_type": "stream",
          "text": [
            "Saving Churn_Modelling.csv to Churn_Modelling.csv\n"
          ],
          "name": "stdout"
        }
      ]
    },
    {
      "cell_type": "code",
      "metadata": {
        "id": "ObZleRUKfGg8",
        "colab_type": "code",
        "colab": {}
      },
      "source": [
        "import io"
      ],
      "execution_count": 0,
      "outputs": []
    },
    {
      "cell_type": "code",
      "metadata": {
        "id": "NCQx6Y9siHKI",
        "colab_type": "code",
        "colab": {}
      },
      "source": [
        "dataset=pd.read_csv(io.BytesIO(file['Churn_Modelling.csv']))"
      ],
      "execution_count": 0,
      "outputs": []
    },
    {
      "cell_type": "code",
      "metadata": {
        "id": "Ht3FkpNXli5W",
        "colab_type": "code",
        "outputId": "90f8f5e4-5bfb-4b02-a01a-8ac3b1a3d57f",
        "colab": {
          "base_uri": "https://localhost:8080/",
          "height": 224
        }
      },
      "source": [
        "dataset.head()"
      ],
      "execution_count": 8,
      "outputs": [
        {
          "output_type": "execute_result",
          "data": {
            "text/html": [
              "<div>\n",
              "<style scoped>\n",
              "    .dataframe tbody tr th:only-of-type {\n",
              "        vertical-align: middle;\n",
              "    }\n",
              "\n",
              "    .dataframe tbody tr th {\n",
              "        vertical-align: top;\n",
              "    }\n",
              "\n",
              "    .dataframe thead th {\n",
              "        text-align: right;\n",
              "    }\n",
              "</style>\n",
              "<table border=\"1\" class=\"dataframe\">\n",
              "  <thead>\n",
              "    <tr style=\"text-align: right;\">\n",
              "      <th></th>\n",
              "      <th>RowNumber</th>\n",
              "      <th>CustomerId</th>\n",
              "      <th>Surname</th>\n",
              "      <th>CreditScore</th>\n",
              "      <th>Geography</th>\n",
              "      <th>Gender</th>\n",
              "      <th>Age</th>\n",
              "      <th>Tenure</th>\n",
              "      <th>Balance</th>\n",
              "      <th>NumOfProducts</th>\n",
              "      <th>HasCrCard</th>\n",
              "      <th>IsActiveMember</th>\n",
              "      <th>EstimatedSalary</th>\n",
              "      <th>Exited</th>\n",
              "    </tr>\n",
              "  </thead>\n",
              "  <tbody>\n",
              "    <tr>\n",
              "      <th>0</th>\n",
              "      <td>1</td>\n",
              "      <td>15634602</td>\n",
              "      <td>Hargrave</td>\n",
              "      <td>619</td>\n",
              "      <td>France</td>\n",
              "      <td>Female</td>\n",
              "      <td>42</td>\n",
              "      <td>2</td>\n",
              "      <td>0.00</td>\n",
              "      <td>1</td>\n",
              "      <td>1</td>\n",
              "      <td>1</td>\n",
              "      <td>101348.88</td>\n",
              "      <td>1</td>\n",
              "    </tr>\n",
              "    <tr>\n",
              "      <th>1</th>\n",
              "      <td>2</td>\n",
              "      <td>15647311</td>\n",
              "      <td>Hill</td>\n",
              "      <td>608</td>\n",
              "      <td>Spain</td>\n",
              "      <td>Female</td>\n",
              "      <td>41</td>\n",
              "      <td>1</td>\n",
              "      <td>83807.86</td>\n",
              "      <td>1</td>\n",
              "      <td>0</td>\n",
              "      <td>1</td>\n",
              "      <td>112542.58</td>\n",
              "      <td>0</td>\n",
              "    </tr>\n",
              "    <tr>\n",
              "      <th>2</th>\n",
              "      <td>3</td>\n",
              "      <td>15619304</td>\n",
              "      <td>Onio</td>\n",
              "      <td>502</td>\n",
              "      <td>France</td>\n",
              "      <td>Female</td>\n",
              "      <td>42</td>\n",
              "      <td>8</td>\n",
              "      <td>159660.80</td>\n",
              "      <td>3</td>\n",
              "      <td>1</td>\n",
              "      <td>0</td>\n",
              "      <td>113931.57</td>\n",
              "      <td>1</td>\n",
              "    </tr>\n",
              "    <tr>\n",
              "      <th>3</th>\n",
              "      <td>4</td>\n",
              "      <td>15701354</td>\n",
              "      <td>Boni</td>\n",
              "      <td>699</td>\n",
              "      <td>France</td>\n",
              "      <td>Female</td>\n",
              "      <td>39</td>\n",
              "      <td>1</td>\n",
              "      <td>0.00</td>\n",
              "      <td>2</td>\n",
              "      <td>0</td>\n",
              "      <td>0</td>\n",
              "      <td>93826.63</td>\n",
              "      <td>0</td>\n",
              "    </tr>\n",
              "    <tr>\n",
              "      <th>4</th>\n",
              "      <td>5</td>\n",
              "      <td>15737888</td>\n",
              "      <td>Mitchell</td>\n",
              "      <td>850</td>\n",
              "      <td>Spain</td>\n",
              "      <td>Female</td>\n",
              "      <td>43</td>\n",
              "      <td>2</td>\n",
              "      <td>125510.82</td>\n",
              "      <td>1</td>\n",
              "      <td>1</td>\n",
              "      <td>1</td>\n",
              "      <td>79084.10</td>\n",
              "      <td>0</td>\n",
              "    </tr>\n",
              "  </tbody>\n",
              "</table>\n",
              "</div>"
            ],
            "text/plain": [
              "   RowNumber  CustomerId   Surname  ...  IsActiveMember EstimatedSalary Exited\n",
              "0          1    15634602  Hargrave  ...               1       101348.88      1\n",
              "1          2    15647311      Hill  ...               1       112542.58      0\n",
              "2          3    15619304      Onio  ...               0       113931.57      1\n",
              "3          4    15701354      Boni  ...               0        93826.63      0\n",
              "4          5    15737888  Mitchell  ...               1        79084.10      0\n",
              "\n",
              "[5 rows x 14 columns]"
            ]
          },
          "metadata": {
            "tags": []
          },
          "execution_count": 8
        }
      ]
    },
    {
      "cell_type": "code",
      "metadata": {
        "id": "KUnR03v13hyx",
        "colab_type": "code",
        "colab": {
          "base_uri": "https://localhost:8080/",
          "height": 446
        },
        "outputId": "63430f44-d47c-46a1-abb2-c9eee7be2331"
      },
      "source": [
        "plt.figure(figsize=(20,7))\n",
        "sns.countplot(dataset['Gender'])\n",
        "plt.show()"
      ],
      "execution_count": 69,
      "outputs": [
        {
          "output_type": "display_data",
          "data": {
            "image/png": "[encoded data removed]",
            "text/plain": [
              "<Figure size 1440x504 with 1 Axes>"
            ]
          },
          "metadata": {
            "tags": []
          }
        }
      ]
    },
    {
      "cell_type": "code",
      "metadata": {
        "id": "uY38kObP3rDq",
        "colab_type": "code",
        "colab": {
          "base_uri": "https://localhost:8080/",
          "height": 446
        },
        "outputId": "f454d31f-b79e-44c5-e332-4b26d5b67d32"
      },
      "source": [
        "plt.figure(figsize=(20,7))\n",
        "sns.countplot(dataset['NumOfProducts'])\n",
        "plt.show()"
      ],
      "execution_count": 70,
      "outputs": [
        {
          "output_type": "display_data",
          "data": {
            "image/png": "[encoded data removed]",
            "text/plain": [
              "<Figure size 1440x504 with 1 Axes>"
            ]
          },
          "metadata": {
            "tags": []
          }
        }
      ]
    },
    {
      "cell_type": "code",
      "metadata": {
        "id": "h3c4DetS181w",
        "colab_type": "code",
        "colab": {
          "base_uri": "https://localhost:8080/",
          "height": 446
        },
        "outputId": "1bd8e668-4568-4aa5-c971-f666891a5a58"
      },
      "source": [
        "plt.figure(figsize=(20,7))\n",
        "sns.countplot(dataset['Geography'])\n",
        "plt.show()"
      ],
      "execution_count": 67,
      "outputs": [
        {
          "output_type": "display_data",
          "data": {
            "image/png": "[encoded data removed]",
            "text/plain": [
              "<Figure size 1440x504 with 1 Axes>"
            ]
          },
          "metadata": {
            "tags": []
          }
        }
      ]
    },
    {
      "cell_type": "code",
      "metadata": {
        "id": "cGs9UIGnlqMd",
        "colab_type": "code",
        "outputId": "8e87f756-fe5e-4d0c-ba24-6ae2a3359685",
        "colab": {
          "base_uri": "https://localhost:8080/",
          "height": 446
        }
      },
      "source": [
        "plt.figure(figsize=(20,7))\n",
        "sns.countplot(dataset['Exited'])\n",
        "plt.show()"
      ],
      "execution_count": 66,
      "outputs": [
        {
          "output_type": "display_data",
          "data": {
            "image/png": "[encoded data removed]",
            "text/plain": [
              "<Figure size 1440x504 with 1 Axes>"
            ]
          },
          "metadata": {
            "tags": []
          }
        }
      ]
    },
    {
      "cell_type": "code",
      "metadata": {
        "id": "r9Hkqanzl8mL",
        "colab_type": "code",
        "colab": {}
      },
      "source": [
        "x=dataset.iloc[:,3:13].values\n",
        "y=dataset.iloc[:,13].values"
      ],
      "execution_count": 0,
      "outputs": []
    },
    {
      "cell_type": "code",
      "metadata": {
        "id": "7vDRekWQmrY9",
        "colab_type": "code",
        "colab": {}
      },
      "source": [
        "from sklearn.preprocessing import LabelEncoder, OneHotEncoder"
      ],
      "execution_count": 0,
      "outputs": []
    },
    {
      "cell_type": "code",
      "metadata": {
        "id": "uUYqdQBHmwgm",
        "colab_type": "code",
        "colab": {}
      },
      "source": [
        "label_encoder_1=LabelEncoder()\n",
        "x[:,1]=label_encoder_1.fit_transform(x[:,1])"
      ],
      "execution_count": 0,
      "outputs": []
    },
    {
      "cell_type": "code",
      "metadata": {
        "id": "YgzdekDzmzTI",
        "colab_type": "code",
        "colab": {}
      },
      "source": [
        "label_encoder_2=LabelEncoder()\n",
        "x[:,2]=label_encoder_2.fit_transform(x[:,2])"
      ],
      "execution_count": 0,
      "outputs": []
    },
    {
      "cell_type": "code",
      "metadata": {
        "id": "i9gMqWCMnecU",
        "colab_type": "code",
        "outputId": "991c8184-4be3-44ca-bee7-5b039c599783",
        "colab": {
          "base_uri": "https://localhost:8080/",
          "height": 139
        }
      },
      "source": [
        "one_hot_encoder=OneHotEncoder(categorical_features=[1])\n",
        "x=one_hot_encoder.fit_transform(x).toarray()"
      ],
      "execution_count": 36,
      "outputs": [
        {
          "output_type": "stream",
          "text": [
            "/usr/local/lib/python3.6/dist-packages/sklearn/preprocessing/_encoders.py:415: FutureWarning: The handling of integer data will change in version 0.22. Currently, the categories are determined based on the range [0, max(values)], while in the future they will be determined based on the unique values.\n",
            "If you want the future behaviour and silence this warning, you can specify \"categories='auto'\".\n",
            "In case you used a LabelEncoder before this OneHotEncoder to convert the categories to integers, then you can now use the OneHotEncoder directly.\n",
            "  warnings.warn(msg, FutureWarning)\n",
            "/usr/local/lib/python3.6/dist-packages/sklearn/preprocessing/_encoders.py:451: DeprecationWarning: The 'categorical_features' keyword is deprecated in version 0.20 and will be removed in 0.22. You can use the ColumnTransformer instead.\n",
            "  \"use the ColumnTransformer instead.\", DeprecationWarning)\n"
          ],
          "name": "stderr"
        }
      ]
    },
    {
      "cell_type": "code",
      "metadata": {
        "id": "TGUATWftnhBh",
        "colab_type": "code",
        "colab": {}
      },
      "source": [
        "x=x[:,1:]"
      ],
      "execution_count": 0,
      "outputs": []
    },
    {
      "cell_type": "code",
      "metadata": {
        "id": "wl-BVi2jnmjd",
        "colab_type": "code",
        "colab": {}
      },
      "source": [
        "from sklearn.model_selection import train_test_split"
      ],
      "execution_count": 0,
      "outputs": []
    },
    {
      "cell_type": "code",
      "metadata": {
        "id": "T0_2MZ1wnpki",
        "colab_type": "code",
        "colab": {}
      },
      "source": [
        "x_train,x_test,y_train,y_test=train_test_split(x,y,test_size=0.2,random_state=0)"
      ],
      "execution_count": 0,
      "outputs": []
    },
    {
      "cell_type": "code",
      "metadata": {
        "id": "pmNlyYLtnrzX",
        "colab_type": "code",
        "colab": {}
      },
      "source": [
        "from sklearn.preprocessing import StandardScaler"
      ],
      "execution_count": 0,
      "outputs": []
    },
    {
      "cell_type": "code",
      "metadata": {
        "id": "aWqYF9Ikntl5",
        "colab_type": "code",
        "colab": {}
      },
      "source": [
        "sc=StandardScaler()\n",
        "x_train=sc.fit_transform(x_train)\n",
        "x_test=sc.transform(x_test)"
      ],
      "execution_count": 0,
      "outputs": []
    },
    {
      "cell_type": "code",
      "metadata": {
        "id": "xrcGisBsnvyd",
        "colab_type": "code",
        "colab": {}
      },
      "source": [
        "from keras.models import Sequential\n",
        "from keras.layers import Dense"
      ],
      "execution_count": 0,
      "outputs": []
    },
    {
      "cell_type": "code",
      "metadata": {
        "id": "jd14bt5Fnx_R",
        "colab_type": "code",
        "colab": {}
      },
      "source": [
        "classifier=Sequential()"
      ],
      "execution_count": 0,
      "outputs": []
    },
    {
      "cell_type": "code",
      "metadata": {
        "id": "ylRSz8Rbnz-L",
        "colab_type": "code",
        "colab": {
          "base_uri": "https://localhost:8080/",
          "height": 71
        },
        "outputId": "dfdacaae-8ce1-43fd-d87a-ad7a2ddecf7d"
      },
      "source": [
        "classifier.add(Dense(output_dim=6, kernel_initializer='uniform', activation = 'relu', input_dim=11))\n"
      ],
      "execution_count": 44,
      "outputs": [
        {
          "output_type": "stream",
          "text": [
            "/usr/local/lib/python3.6/dist-packages/ipykernel_launcher.py:1: UserWarning: Update your `Dense` call to the Keras 2 API: `Dense(kernel_initializer=\"uniform\", activation=\"relu\", input_dim=11, units=6)`\n",
            "  \"\"\"Entry point for launching an IPython kernel.\n"
          ],
          "name": "stderr"
        }
      ]
    },
    {
      "cell_type": "code",
      "metadata": {
        "id": "YvsFWGSgn3oe",
        "colab_type": "code",
        "colab": {
          "base_uri": "https://localhost:8080/",
          "height": 71
        },
        "outputId": "608e5b02-0c2f-4ab9-e1b0-bd525b295cb8"
      },
      "source": [
        "classifier.add(Dense(output_dim=6, kernel_initializer='uniform', activation ='relu'))\n"
      ],
      "execution_count": 45,
      "outputs": [
        {
          "output_type": "stream",
          "text": [
            "/usr/local/lib/python3.6/dist-packages/ipykernel_launcher.py:1: UserWarning: Update your `Dense` call to the Keras 2 API: `Dense(kernel_initializer=\"uniform\", activation=\"relu\", units=6)`\n",
            "  \"\"\"Entry point for launching an IPython kernel.\n"
          ],
          "name": "stderr"
        }
      ]
    },
    {
      "cell_type": "code",
      "metadata": {
        "id": "Y3MMr_qUhaTk",
        "colab_type": "code",
        "colab": {
          "base_uri": "https://localhost:8080/",
          "height": 71
        },
        "outputId": "99b5b348-c78b-4463-f94a-5ccfdf105236"
      },
      "source": [
        "classifier.add(Dense(output_dim=1, kernel_initializer='uniform', activation = 'sigmoid'))\n"
      ],
      "execution_count": 46,
      "outputs": [
        {
          "output_type": "stream",
          "text": [
            "/usr/local/lib/python3.6/dist-packages/ipykernel_launcher.py:1: UserWarning: Update your `Dense` call to the Keras 2 API: `Dense(kernel_initializer=\"uniform\", activation=\"sigmoid\", units=1)`\n",
            "  \"\"\"Entry point for launching an IPython kernel.\n"
          ],
          "name": "stderr"
        }
      ]
    },
    {
      "cell_type": "code",
      "metadata": {
        "id": "AdorpxN-n_b0",
        "colab_type": "code",
        "colab": {}
      },
      "source": [
        "classifier.compile(optimizer='adam', loss='binary_crossentropy', metrics=['accuracy'])"
      ],
      "execution_count": 0,
      "outputs": []
    },
    {
      "cell_type": "code",
      "metadata": {
        "id": "57DFvYfvrLc8",
        "colab_type": "code",
        "colab": {
          "base_uri": "https://localhost:8080/",
          "height": 1000
        },
        "outputId": "b2f28213-9120-4dd1-a0ac-665254e52831"
      },
      "source": [
        "classifier.fit( x_train,y_train, batch_size=10, epochs=100)"
      ],
      "execution_count": 48,
      "outputs": [
        {
          "output_type": "stream",
          "text": [
            "Epoch 1/100\n",
            "8000/8000 [==============================] - 1s 134us/step - loss: 0.4849 - acc: 0.7947\n",
            "Epoch 2/100\n",
            "8000/8000 [==============================] - 1s 106us/step - loss: 0.4288 - acc: 0.7960\n",
            "Epoch 3/100\n",
            "8000/8000 [==============================] - 1s 105us/step - loss: 0.4228 - acc: 0.7960\n",
            "Epoch 4/100\n",
            "8000/8000 [==============================] - 1s 109us/step - loss: 0.4186 - acc: 0.8161\n",
            "Epoch 5/100\n",
            "8000/8000 [==============================] - 1s 106us/step - loss: 0.4161 - acc: 0.8257\n",
            "Epoch 6/100\n",
            "8000/8000 [==============================] - 1s 109us/step - loss: 0.4144 - acc: 0.8305\n",
            "Epoch 7/100\n",
            "8000/8000 [==============================] - 1s 105us/step - loss: 0.4130 - acc: 0.8320\n",
            "Epoch 8/100\n",
            "8000/8000 [==============================] - 1s 106us/step - loss: 0.4120 - acc: 0.8307\n",
            "Epoch 9/100\n",
            "8000/8000 [==============================] - 1s 107us/step - loss: 0.4107 - acc: 0.8325\n",
            "Epoch 10/100\n",
            "8000/8000 [==============================] - 1s 113us/step - loss: 0.4098 - acc: 0.8327\n",
            "Epoch 11/100\n",
            "8000/8000 [==============================] - 1s 109us/step - loss: 0.4094 - acc: 0.8352\n",
            "Epoch 12/100\n",
            "8000/8000 [==============================] - 1s 107us/step - loss: 0.4085 - acc: 0.8344\n",
            "Epoch 13/100\n",
            "8000/8000 [==============================] - 1s 109us/step - loss: 0.4072 - acc: 0.8351\n",
            "Epoch 14/100\n",
            "8000/8000 [==============================] - 1s 108us/step - loss: 0.4072 - acc: 0.8351\n",
            "Epoch 15/100\n",
            "8000/8000 [==============================] - 1s 110us/step - loss: 0.4063 - acc: 0.8339\n",
            "Epoch 16/100\n",
            "8000/8000 [==============================] - 1s 108us/step - loss: 0.4058 - acc: 0.8350\n",
            "Epoch 17/100\n",
            "8000/8000 [==============================] - 1s 110us/step - loss: 0.4055 - acc: 0.8354\n",
            "Epoch 18/100\n",
            "8000/8000 [==============================] - 1s 105us/step - loss: 0.4046 - acc: 0.8351\n",
            "Epoch 19/100\n",
            "8000/8000 [==============================] - 1s 105us/step - loss: 0.4047 - acc: 0.8345\n",
            "Epoch 20/100\n",
            "8000/8000 [==============================] - 1s 111us/step - loss: 0.4039 - acc: 0.8349\n",
            "Epoch 21/100\n",
            "8000/8000 [==============================] - 1s 105us/step - loss: 0.4038 - acc: 0.8347\n",
            "Epoch 22/100\n",
            "8000/8000 [==============================] - 1s 107us/step - loss: 0.4033 - acc: 0.8344\n",
            "Epoch 23/100\n",
            "8000/8000 [==============================] - 1s 108us/step - loss: 0.4034 - acc: 0.8361\n",
            "Epoch 24/100\n",
            "8000/8000 [==============================] - 1s 108us/step - loss: 0.4036 - acc: 0.8349\n",
            "Epoch 25/100\n",
            "8000/8000 [==============================] - 1s 111us/step - loss: 0.4033 - acc: 0.8355\n",
            "Epoch 26/100\n",
            "8000/8000 [==============================] - 1s 114us/step - loss: 0.4030 - acc: 0.8351\n",
            "Epoch 27/100\n",
            "8000/8000 [==============================] - 1s 105us/step - loss: 0.4027 - acc: 0.8339\n",
            "Epoch 28/100\n",
            "8000/8000 [==============================] - 1s 103us/step - loss: 0.4029 - acc: 0.8345\n",
            "Epoch 29/100\n",
            "8000/8000 [==============================] - 1s 104us/step - loss: 0.4026 - acc: 0.8357\n",
            "Epoch 30/100\n",
            "8000/8000 [==============================] - 1s 103us/step - loss: 0.4019 - acc: 0.8327\n",
            "Epoch 31/100\n",
            "8000/8000 [==============================] - 1s 106us/step - loss: 0.4018 - acc: 0.8349\n",
            "Epoch 32/100\n",
            "8000/8000 [==============================] - 1s 109us/step - loss: 0.4024 - acc: 0.8342\n",
            "Epoch 33/100\n",
            "8000/8000 [==============================] - 1s 106us/step - loss: 0.4021 - acc: 0.8349\n",
            "Epoch 34/100\n",
            "8000/8000 [==============================] - 1s 101us/step - loss: 0.4019 - acc: 0.8346\n",
            "Epoch 35/100\n",
            "8000/8000 [==============================] - 1s 104us/step - loss: 0.4019 - acc: 0.8342\n",
            "Epoch 36/100\n",
            "8000/8000 [==============================] - 1s 103us/step - loss: 0.4016 - acc: 0.8360\n",
            "Epoch 37/100\n",
            "8000/8000 [==============================] - 1s 99us/step - loss: 0.4017 - acc: 0.8340\n",
            "Epoch 38/100\n",
            "8000/8000 [==============================] - 1s 103us/step - loss: 0.4017 - acc: 0.8352\n",
            "Epoch 39/100\n",
            "8000/8000 [==============================] - 1s 103us/step - loss: 0.4010 - acc: 0.8344\n",
            "Epoch 40/100\n",
            "8000/8000 [==============================] - 1s 102us/step - loss: 0.4009 - acc: 0.8336\n",
            "Epoch 41/100\n",
            "8000/8000 [==============================] - 1s 103us/step - loss: 0.4011 - acc: 0.8360\n",
            "Epoch 42/100\n",
            "8000/8000 [==============================] - 1s 105us/step - loss: 0.4006 - acc: 0.8342\n",
            "Epoch 43/100\n",
            "8000/8000 [==============================] - 1s 107us/step - loss: 0.4008 - acc: 0.8337\n",
            "Epoch 44/100\n",
            "8000/8000 [==============================] - 1s 105us/step - loss: 0.4007 - acc: 0.8345\n",
            "Epoch 45/100\n",
            "8000/8000 [==============================] - 1s 101us/step - loss: 0.4015 - acc: 0.8340\n",
            "Epoch 46/100\n",
            "8000/8000 [==============================] - 1s 103us/step - loss: 0.4010 - acc: 0.8342\n",
            "Epoch 47/100\n",
            "8000/8000 [==============================] - 1s 102us/step - loss: 0.4010 - acc: 0.8351\n",
            "Epoch 48/100\n",
            "8000/8000 [==============================] - 1s 101us/step - loss: 0.4005 - acc: 0.8354\n",
            "Epoch 49/100\n",
            "8000/8000 [==============================] - 1s 105us/step - loss: 0.4000 - acc: 0.8357\n",
            "Epoch 50/100\n",
            "8000/8000 [==============================] - 1s 105us/step - loss: 0.4002 - acc: 0.8347\n",
            "Epoch 51/100\n",
            "8000/8000 [==============================] - 1s 107us/step - loss: 0.4011 - acc: 0.8341\n",
            "Epoch 52/100\n",
            "8000/8000 [==============================] - 1s 103us/step - loss: 0.4003 - acc: 0.8351\n",
            "Epoch 53/100\n",
            "8000/8000 [==============================] - 1s 103us/step - loss: 0.4007 - acc: 0.8340\n",
            "Epoch 54/100\n",
            "8000/8000 [==============================] - 1s 107us/step - loss: 0.4005 - acc: 0.8365\n",
            "Epoch 55/100\n",
            "8000/8000 [==============================] - 1s 101us/step - loss: 0.4003 - acc: 0.8346\n",
            "Epoch 56/100\n",
            "8000/8000 [==============================] - 1s 100us/step - loss: 0.4000 - acc: 0.8344\n",
            "Epoch 57/100\n",
            "8000/8000 [==============================] - 1s 100us/step - loss: 0.4002 - acc: 0.8357\n",
            "Epoch 58/100\n",
            "8000/8000 [==============================] - 1s 103us/step - loss: 0.3995 - acc: 0.8356\n",
            "Epoch 59/100\n",
            "8000/8000 [==============================] - 1s 103us/step - loss: 0.4006 - acc: 0.8370\n",
            "Epoch 60/100\n",
            "8000/8000 [==============================] - 1s 103us/step - loss: 0.4002 - acc: 0.8355\n",
            "Epoch 61/100\n",
            "8000/8000 [==============================] - 1s 108us/step - loss: 0.3998 - acc: 0.8367\n",
            "Epoch 62/100\n",
            "8000/8000 [==============================] - 1s 107us/step - loss: 0.4002 - acc: 0.8355\n",
            "Epoch 63/100\n",
            "8000/8000 [==============================] - 1s 103us/step - loss: 0.4000 - acc: 0.8351\n",
            "Epoch 64/100\n",
            "8000/8000 [==============================] - 1s 103us/step - loss: 0.4001 - acc: 0.8357\n",
            "Epoch 65/100\n",
            "8000/8000 [==============================] - 1s 102us/step - loss: 0.3998 - acc: 0.8371\n",
            "Epoch 66/100\n",
            "8000/8000 [==============================] - 1s 104us/step - loss: 0.3994 - acc: 0.8370\n",
            "Epoch 67/100\n",
            "8000/8000 [==============================] - 1s 99us/step - loss: 0.3996 - acc: 0.8347\n",
            "Epoch 68/100\n",
            "8000/8000 [==============================] - 1s 99us/step - loss: 0.3995 - acc: 0.8366\n",
            "Epoch 69/100\n",
            "8000/8000 [==============================] - 1s 100us/step - loss: 0.4002 - acc: 0.8351\n",
            "Epoch 70/100\n",
            "8000/8000 [==============================] - 1s 100us/step - loss: 0.3996 - acc: 0.8349\n",
            "Epoch 71/100\n",
            "8000/8000 [==============================] - 1s 103us/step - loss: 0.3999 - acc: 0.8360\n",
            "Epoch 72/100\n",
            "8000/8000 [==============================] - 1s 101us/step - loss: 0.3991 - acc: 0.8355\n",
            "Epoch 73/100\n",
            "8000/8000 [==============================] - 1s 101us/step - loss: 0.3996 - acc: 0.8361\n",
            "Epoch 74/100\n",
            "8000/8000 [==============================] - 1s 103us/step - loss: 0.3993 - acc: 0.8356\n",
            "Epoch 75/100\n",
            "8000/8000 [==============================] - 1s 103us/step - loss: 0.3991 - acc: 0.8357\n",
            "Epoch 76/100\n",
            "8000/8000 [==============================] - 1s 105us/step - loss: 0.4000 - acc: 0.8347\n",
            "Epoch 77/100\n",
            "8000/8000 [==============================] - 1s 101us/step - loss: 0.3993 - acc: 0.8347\n",
            "Epoch 78/100\n",
            "8000/8000 [==============================] - 1s 100us/step - loss: 0.3994 - acc: 0.8346\n",
            "Epoch 79/100\n",
            "8000/8000 [==============================] - 1s 105us/step - loss: 0.3996 - acc: 0.8359\n",
            "Epoch 80/100\n",
            "8000/8000 [==============================] - 1s 103us/step - loss: 0.3992 - acc: 0.8357\n",
            "Epoch 81/100\n",
            "8000/8000 [==============================] - 1s 102us/step - loss: 0.3994 - acc: 0.8376\n",
            "Epoch 82/100\n",
            "8000/8000 [==============================] - 1s 104us/step - loss: 0.3995 - acc: 0.8366\n",
            "Epoch 83/100\n",
            "8000/8000 [==============================] - 1s 99us/step - loss: 0.3993 - acc: 0.8364\n",
            "Epoch 84/100\n",
            "8000/8000 [==============================] - 1s 101us/step - loss: 0.3997 - acc: 0.8356\n",
            "Epoch 85/100\n",
            "8000/8000 [==============================] - 1s 103us/step - loss: 0.3992 - acc: 0.8349\n",
            "Epoch 86/100\n",
            "8000/8000 [==============================] - 1s 104us/step - loss: 0.3985 - acc: 0.8367\n",
            "Epoch 87/100\n",
            "8000/8000 [==============================] - 1s 103us/step - loss: 0.3990 - acc: 0.8352\n",
            "Epoch 88/100\n",
            "8000/8000 [==============================] - 1s 102us/step - loss: 0.3988 - acc: 0.8350\n",
            "Epoch 89/100\n",
            "8000/8000 [==============================] - 1s 103us/step - loss: 0.3994 - acc: 0.8367\n",
            "Epoch 90/100\n",
            "8000/8000 [==============================] - 1s 103us/step - loss: 0.3989 - acc: 0.8350\n",
            "Epoch 91/100\n",
            "8000/8000 [==============================] - 1s 103us/step - loss: 0.3991 - acc: 0.8362\n",
            "Epoch 92/100\n",
            "8000/8000 [==============================] - 1s 101us/step - loss: 0.3993 - acc: 0.8359\n",
            "Epoch 93/100\n",
            "8000/8000 [==============================] - 1s 101us/step - loss: 0.3990 - acc: 0.8352\n",
            "Epoch 94/100\n",
            "8000/8000 [==============================] - 1s 105us/step - loss: 0.3991 - acc: 0.8352\n",
            "Epoch 95/100\n",
            "8000/8000 [==============================] - 1s 104us/step - loss: 0.3989 - acc: 0.8361\n",
            "Epoch 96/100\n",
            "8000/8000 [==============================] - 1s 100us/step - loss: 0.3990 - acc: 0.8371\n",
            "Epoch 97/100\n",
            "8000/8000 [==============================] - 1s 100us/step - loss: 0.3989 - acc: 0.8361\n",
            "Epoch 98/100\n",
            "8000/8000 [==============================] - 1s 103us/step - loss: 0.3991 - acc: 0.8356\n",
            "Epoch 99/100\n",
            "8000/8000 [==============================] - 1s 102us/step - loss: 0.3987 - acc: 0.8385\n",
            "Epoch 100/100\n",
            "8000/8000 [==============================] - 1s 98us/step - loss: 0.3988 - acc: 0.8370\n"
          ],
          "name": "stdout"
        },
        {
          "output_type": "execute_result",
          "data": {
            "text/plain": [
              "<keras.callbacks.History at 0x7f0478adf898>"
            ]
          },
          "metadata": {
            "tags": []
          },
          "execution_count": 48
        }
      ]
    },
    {
      "cell_type": "code",
      "metadata": {
        "id": "46rTE2Itsl4J",
        "colab_type": "code",
        "colab": {}
      },
      "source": [
        "y_pred=classifier.predict(x_test)"
      ],
      "execution_count": 0,
      "outputs": []
    },
    {
      "cell_type": "code",
      "metadata": {
        "id": "32HbmgjOu9Et",
        "colab_type": "code",
        "colab": {}
      },
      "source": [
        "y_pred=(y_pred>0.5)"
      ],
      "execution_count": 0,
      "outputs": []
    },
    {
      "cell_type": "code",
      "metadata": {
        "id": "kbLsD14fy0CH",
        "colab_type": "code",
        "colab": {}
      },
      "source": [
        "from sklearn.metrics import confusion_matrix\n",
        "cm=confusion_matrix(y_pred=y_pred,y_true=y_test)"
      ],
      "execution_count": 0,
      "outputs": []
    },
    {
      "cell_type": "code",
      "metadata": {
        "id": "ZdA-LHP5zkyn",
        "colab_type": "code",
        "colab": {
          "base_uri": "https://localhost:8080/",
          "height": 432
        },
        "outputId": "fb6e2948-bf54-48a6-c2d3-a60be2aa1890"
      },
      "source": [
        "plt.figure(figsize=(15,7))\n",
        "sns.heatmap(cm,cmap='Blues',annot=True,fmt='g')\n",
        "plt.show()"
      ],
      "execution_count": 68,
      "outputs": [
        {
          "output_type": "display_data",
          "data": {
            "image/png": "[encoded data removed]",
            "text/plain": [
              "<Figure size 1080x504 with 2 Axes>"
            ]
          },
          "metadata": {
            "tags": []
          }
        }
      ]
    },
    {
      "cell_type": "code",
      "metadata": {
        "id": "Ez94QGltzZEK",
        "colab_type": "code",
        "colab": {}
      },
      "source": [
        ""
      ],
      "execution_count": 0,
      "outputs": []
    },
    {
      "cell_type": "code",
      "metadata": {
        "id": "RaXCC_icze31",
        "colab_type": "code",
        "colab": {}
      },
      "source": [
        ""
      ],
      "execution_count": 0,
      "outputs": []
    }
  ]
}